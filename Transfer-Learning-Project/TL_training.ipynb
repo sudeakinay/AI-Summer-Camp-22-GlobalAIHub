{
  "nbformat": 4,
  "nbformat_minor": 0,
  "metadata": {
    "colab": {
      "name": "TL_training.ipynb",
      "provenance": [],
      "collapsed_sections": []
    },
    "kernelspec": {
      "name": "python3",
      "display_name": "Python 3"
    },
    "language_info": {
      "name": "python"
    }
  },
  "cells": [
    {
      "cell_type": "markdown",
      "source": [
        "**Dosyalari tekrar cagirma**\n",
        "\n",
        "---\n",
        "\n"
      ],
      "metadata": {
        "id": "7oZz8Td4fs61"
      }
    },
    {
      "cell_type": "code",
      "source": [
        "import numpy  as np\n",
        "import pickle\n",
        "import matplotlib.pyplot as plt\n",
        "import tensorflow as tf\n",
        "\n",
        "import seaborn as sns\n",
        "import pandas as pd"
      ],
      "metadata": {
        "id": "oey9CXbRJ-Lf"
      },
      "execution_count": 14,
      "outputs": []
    },
    {
      "cell_type": "code",
      "source": [
        "from google.colab import drive\n",
        "drive.mount('/content/drive')"
      ],
      "metadata": {
        "colab": {
          "base_uri": "https://localhost:8080/"
        },
        "id": "aG-Y5m_cXaZQ",
        "outputId": "b7e8a46c-e63c-4e59-fa4f-c187e882124f"
      },
      "execution_count": 15,
      "outputs": [
        {
          "output_type": "stream",
          "name": "stdout",
          "text": [
            "Drive already mounted at /content/drive; to attempt to forcibly remount, call drive.mount(\"/content/drive\", force_remount=True).\n"
          ]
        }
      ]
    },
    {
      "cell_type": "code",
      "source": [
        "# x_train, y_train, x_val, y_val, x_test ve y_test verilerini cagiralim.\n",
        "\n",
        "X_train = pickle.load(open(\"/content/drive/MyDrive/transfer_learning/pickles/X_train.pickle\", \"rb\"))\n",
        "y_train = pickle.load(open(\"/content/drive/MyDrive/transfer_learning/pickles/y_train.pickle\", \"rb\"))\n",
        "\n",
        "X_val = pickle.load(open(\"/content/drive/MyDrive/transfer_learning/pickles/X_val.pickle\", \"rb\"))\n",
        "y_val = pickle.load(open(\"/content/drive/MyDrive/transfer_learning/pickles/y_val.pickle\", \"rb\"))\n",
        "\n",
        "X_test = pickle.load(open(\"/content/drive/MyDrive/transfer_learning/pickles/X_test.pickle\", \"rb\"))\n",
        "y_test = pickle.load(open(\"/content/drive/MyDrive/transfer_learning/pickles/y_test.pickle\", \"rb\"))\n"
      ],
      "metadata": {
        "id": "JpisyrAVKoWM"
      },
      "execution_count": 16,
      "outputs": []
    },
    {
      "cell_type": "markdown",
      "source": [
        "**Keras icinden model secerek model olusturma ve egitme**\n",
        "\n",
        "---\n",
        "\n"
      ],
      "metadata": {
        "id": "xtmnmHqafn_j"
      }
    },
    {
      "cell_type": "code",
      "source": [
        "# temel model olarak MobileNetV2 belirledik. parametrelerini girelim.\n",
        "base_model = tf.keras.applications.mobilenet_v2.MobileNetV2(include_top = False,\n",
        "                                                     weights = 'imagenet',\n",
        "                                                     input_shape = (128,128,3),\n",
        "                                                     pooling=\"max\")"
      ],
      "metadata": {
        "id": "03lyqjycaKe1"
      },
      "execution_count": 17,
      "outputs": []
    },
    {
      "cell_type": "code",
      "source": [
        "for layer in base_model.layers:\n",
        "    layer.trainable = False"
      ],
      "metadata": {
        "id": "5C3HiQklaQEf"
      },
      "execution_count": 5,
      "outputs": []
    },
    {
      "cell_type": "code",
      "source": [
        "# dropout gibi tekniklerle gerekli x degerine ulasarak bir sonuc tahmin edelim.\n",
        "x = tf.keras.layers.Flatten()(base_model.output)\n",
        "x = tf.keras.layers.Dense(1024, activation='relu')(x)\n",
        "x = tf.keras.layers.Dropout(0.5)(x)\n",
        "x = tf.keras.layers.Dense(1024, activation='relu')(x)\n",
        "x = tf.keras.layers.Dropout(0.5)(x)\n",
        "x = tf.keras.layers.Dense(1024, activation='relu')(x)\n",
        "x = tf.keras.layers.Dropout(0.5)(x)\n",
        "x = tf.keras.layers.Dense(1024, activation='relu')(x)\n",
        "x = tf.keras.layers.Dropout(0.5)(x)\n",
        "x = tf.keras.layers.Dense(1024, activation='relu')(x)\n",
        "x = tf.keras.layers.Dropout(0.5)(x)\n",
        "predictions = tf.keras.layers.Dense(1, activation = 'sigmoid')(x)"
      ],
      "metadata": {
        "id": "RdoZx4B-aQlC"
      },
      "execution_count": 18,
      "outputs": []
    },
    {
      "cell_type": "code",
      "source": [
        "# son olarak modeli olusturalim.\n",
        "head_model = tf.keras.Model(inputs = base_model.input, outputs = predictions)"
      ],
      "metadata": {
        "id": "PSdWNX8daSwW"
      },
      "execution_count": 19,
      "outputs": []
    },
    {
      "cell_type": "code",
      "source": [
        "# modelimizi calistiralim.\n",
        "head_model.compile(optimizer='adam', loss=tf.keras.losses.binary_crossentropy, metrics=['accuracy'])"
      ],
      "metadata": {
        "id": "De6CUPWTaUwr"
      },
      "execution_count": 20,
      "outputs": []
    },
    {
      "cell_type": "code",
      "source": [
        "# 25 olarak belirledigimiz epoch suresince elde edilen loss, accuracy, val_loss ve val_accuracy gibi degerleri yazdiralim.\n",
        "history = head_model.fit(X_train, y_train, batch_size=128, epochs=25, validation_data=(X_val, y_val))"
      ],
      "metadata": {
        "colab": {
          "base_uri": "https://localhost:8080/"
        },
        "id": "AqQhRA2daXJ_",
        "outputId": "b8ec758c-d41d-4145-f73b-0d6024acabd0"
      },
      "execution_count": 21,
      "outputs": [
        {
          "output_type": "stream",
          "name": "stdout",
          "text": [
            "Epoch 1/25\n",
            "13/13 [==============================] - 115s 8s/step - loss: 2.0818 - accuracy: 0.5056 - val_loss: 0.6724 - val_accuracy: 0.5750\n",
            "Epoch 2/25\n",
            "13/13 [==============================] - 108s 8s/step - loss: 0.6752 - accuracy: 0.5819 - val_loss: 0.8718 - val_accuracy: 0.5300\n",
            "Epoch 3/25\n",
            "13/13 [==============================] - 109s 8s/step - loss: 0.3720 - accuracy: 0.8325 - val_loss: 3.7245 - val_accuracy: 0.5550\n",
            "Epoch 4/25\n",
            "13/13 [==============================] - 127s 10s/step - loss: 0.1361 - accuracy: 0.9525 - val_loss: 2.2463 - val_accuracy: 0.6350\n",
            "Epoch 5/25\n",
            "13/13 [==============================] - 118s 9s/step - loss: 0.0594 - accuracy: 0.9769 - val_loss: 3.4271 - val_accuracy: 0.6700\n",
            "Epoch 6/25\n",
            "13/13 [==============================] - 125s 10s/step - loss: 0.0198 - accuracy: 0.9931 - val_loss: 2.4389 - val_accuracy: 0.7400\n",
            "Epoch 7/25\n",
            "13/13 [==============================] - 128s 10s/step - loss: 0.0140 - accuracy: 0.9931 - val_loss: 0.7567 - val_accuracy: 0.8700\n",
            "Epoch 8/25\n",
            "13/13 [==============================] - 115s 9s/step - loss: 0.0391 - accuracy: 0.9881 - val_loss: 1.3268 - val_accuracy: 0.7950\n",
            "Epoch 9/25\n",
            "13/13 [==============================] - 107s 8s/step - loss: 0.0261 - accuracy: 0.9925 - val_loss: 1.7748 - val_accuracy: 0.7700\n",
            "Epoch 10/25\n",
            "13/13 [==============================] - 108s 8s/step - loss: 0.0356 - accuracy: 0.9919 - val_loss: 0.6916 - val_accuracy: 0.8500\n",
            "Epoch 11/25\n",
            "13/13 [==============================] - 126s 10s/step - loss: 0.0260 - accuracy: 0.9919 - val_loss: 0.6749 - val_accuracy: 0.8850\n",
            "Epoch 12/25\n",
            "13/13 [==============================] - 125s 10s/step - loss: 0.0231 - accuracy: 0.9956 - val_loss: 1.0371 - val_accuracy: 0.8600\n",
            "Epoch 13/25\n",
            "13/13 [==============================] - 133s 10s/step - loss: 0.0183 - accuracy: 0.9931 - val_loss: 1.7787 - val_accuracy: 0.7550\n",
            "Epoch 14/25\n",
            "13/13 [==============================] - 122s 9s/step - loss: 0.0128 - accuracy: 0.9962 - val_loss: 1.7686 - val_accuracy: 0.7950\n",
            "Epoch 15/25\n",
            "13/13 [==============================] - 127s 10s/step - loss: 0.0194 - accuracy: 0.9944 - val_loss: 1.1133 - val_accuracy: 0.8750\n",
            "Epoch 16/25\n",
            "13/13 [==============================] - 127s 10s/step - loss: 0.0470 - accuracy: 0.9875 - val_loss: 2.1723 - val_accuracy: 0.6550\n",
            "Epoch 17/25\n",
            "13/13 [==============================] - 127s 10s/step - loss: 0.0598 - accuracy: 0.9819 - val_loss: 1.5710 - val_accuracy: 0.6600\n",
            "Epoch 18/25\n",
            "13/13 [==============================] - 126s 10s/step - loss: 0.0176 - accuracy: 0.9962 - val_loss: 2.0052 - val_accuracy: 0.6950\n",
            "Epoch 19/25\n",
            "13/13 [==============================] - 126s 10s/step - loss: 0.0083 - accuracy: 0.9975 - val_loss: 3.1108 - val_accuracy: 0.6800\n",
            "Epoch 20/25\n",
            "13/13 [==============================] - 127s 10s/step - loss: 0.0416 - accuracy: 0.9881 - val_loss: 2.5601 - val_accuracy: 0.6600\n",
            "Epoch 21/25\n",
            "13/13 [==============================] - 128s 10s/step - loss: 0.0234 - accuracy: 0.9956 - val_loss: 1.5059 - val_accuracy: 0.7050\n",
            "Epoch 22/25\n",
            "13/13 [==============================] - 118s 9s/step - loss: 0.0146 - accuracy: 0.9962 - val_loss: 1.7428 - val_accuracy: 0.7350\n",
            "Epoch 23/25\n",
            "13/13 [==============================] - 109s 8s/step - loss: 0.0045 - accuracy: 0.9987 - val_loss: 2.5283 - val_accuracy: 0.7150\n",
            "Epoch 24/25\n",
            "13/13 [==============================] - 114s 9s/step - loss: 0.0136 - accuracy: 0.9962 - val_loss: 2.3356 - val_accuracy: 0.7600\n",
            "Epoch 25/25\n",
            "13/13 [==============================] - 113s 9s/step - loss: 0.0097 - accuracy: 0.9975 - val_loss: 2.7493 - val_accuracy: 0.7950\n"
          ]
        }
      ]
    },
    {
      "cell_type": "code",
      "source": [
        "head_model.evaluate(X_test, y_test)"
      ],
      "metadata": {
        "colab": {
          "base_uri": "https://localhost:8080/"
        },
        "id": "Ud4qYcZMabAM",
        "outputId": "aad83976-566c-4541-cf15-3d86f1701805"
      },
      "execution_count": 28,
      "outputs": [
        {
          "output_type": "stream",
          "name": "stdout",
          "text": [
            "7/7 [==============================] - 2s 268ms/step - loss: 2.1397 - accuracy: 0.8000\n"
          ]
        },
        {
          "output_type": "execute_result",
          "data": {
            "text/plain": [
              "[2.1396799087524414, 0.800000011920929]"
            ]
          },
          "metadata": {},
          "execution_count": 28
        }
      ]
    },
    {
      "cell_type": "markdown",
      "source": [
        "Grafikler"
      ],
      "metadata": {
        "id": "FbVC6n_dafKY"
      }
    },
    {
      "cell_type": "code",
      "source": [
        "plt.plot(history.history[\"loss\"], label=\"Train\")\n",
        "plt.plot(history.history[\"val_loss\"], label = \"Validation\")\n",
        "plt.xlabel(\"Epoch\")\n",
        "plt.ylabel(\"Loss\")\n",
        "plt.legend()\n",
        "plt.show()"
      ],
      "metadata": {
        "colab": {
          "base_uri": "https://localhost:8080/",
          "height": 279
        },
        "id": "lL1vYl9badCe",
        "outputId": "d5fd2096-c480-4b87-cc31-b992685aba28"
      },
      "execution_count": 34,
      "outputs": [
        {
          "output_type": "display_data",
          "data": {
            "text/plain": [
              "<Figure size 432x288 with 1 Axes>"
            ],
            "image/png": "[encoded data removed]"
          },
          "metadata": {
            "needs_background": "light"
          }
        }
      ]
    },
    {
      "cell_type": "code",
      "source": [
        "plt.plot(history.history[\"accuracy\"], label=\"Train\")\n",
        "plt.plot(history.history[\"val_accuracy\"], label = \"Validation\")\n",
        "plt.xlabel(\"Epoch\")\n",
        "plt.ylabel(\"Accuracy\")\n",
        "plt.legend()\n",
        "plt.show()"
      ],
      "metadata": {
        "colab": {
          "base_uri": "https://localhost:8080/",
          "height": 279
        },
        "id": "aQMVU9Zhaezf",
        "outputId": "19651298-9db9-4477-c96b-84afb4ef8a84"
      },
      "execution_count": 33,
      "outputs": [
        {
          "output_type": "display_data",
          "data": {
            "text/plain": [
              "<Figure size 432x288 with 1 Axes>"
            ],
            "image/png": "[encoded data removed]"
          },
          "metadata": {
            "needs_background": "light"
          }
        }
      ]
    },
    {
      "cell_type": "code",
      "source": [
        "# egittigimiz modeli kaydedelim.\n",
        "head_model.save(\"trained_model\")"
      ],
      "metadata": {
        "id": "4WrEieVwajCS"
      },
      "execution_count": 25,
      "outputs": []
    }
  ]
}